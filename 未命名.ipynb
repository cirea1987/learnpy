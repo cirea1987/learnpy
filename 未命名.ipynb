{
 "cells": [
  {
   "cell_type": "code",
   "execution_count": 4,
   "id": "3f6cb333",
   "metadata": {},
   "outputs": [
    {
     "data": {
      "text/plain": [
       "array([1, 2, 3, 4, 5])"
      ]
     },
     "execution_count": 4,
     "metadata": {},
     "output_type": "execute_result"
    }
   ],
   "source": [
    "import numpy as np\n",
    "import pandas as pd\n",
    "import matplotlib.pyplot as plt\n",
    "array1 = np.array([1, 2, 3, 4, 5])\n",
    "array1\n",
    "\n"
   ]
  },
  {
   "cell_type": "code",
   "execution_count": 5,
   "id": "f88f78e2",
   "metadata": {},
   "outputs": [
    {
     "data": {
      "text/plain": [
       "array([ 0,  2,  4,  6,  8, 10, 12, 14, 16, 18])"
      ]
     },
     "execution_count": 5,
     "metadata": {},
     "output_type": "execute_result"
    }
   ],
   "source": [
    "array2 = np.arange(0, 20, 2)\n",
    "array2"
   ]
  },
  {
   "cell_type": "code",
   "execution_count": 6,
   "id": "458037b5",
   "metadata": {
    "scrolled": true
   },
   "outputs": [
    {
     "data": {
      "text/plain": [
       "array([-5. , -4.9, -4.8, -4.7, -4.6, -4.5, -4.4, -4.3, -4.2, -4.1, -4. ,\n",
       "       -3.9, -3.8, -3.7, -3.6, -3.5, -3.4, -3.3, -3.2, -3.1, -3. , -2.9,\n",
       "       -2.8, -2.7, -2.6, -2.5, -2.4, -2.3, -2.2, -2.1, -2. , -1.9, -1.8,\n",
       "       -1.7, -1.6, -1.5, -1.4, -1.3, -1.2, -1.1, -1. , -0.9, -0.8, -0.7,\n",
       "       -0.6, -0.5, -0.4, -0.3, -0.2, -0.1,  0. ,  0.1,  0.2,  0.3,  0.4,\n",
       "        0.5,  0.6,  0.7,  0.8,  0.9,  1. ,  1.1,  1.2,  1.3,  1.4,  1.5,\n",
       "        1.6,  1.7,  1.8,  1.9,  2. ,  2.1,  2.2,  2.3,  2.4,  2.5,  2.6,\n",
       "        2.7,  2.8,  2.9,  3. ,  3.1,  3.2,  3.3,  3.4,  3.5,  3.6,  3.7,\n",
       "        3.8,  3.9,  4. ,  4.1,  4.2,  4.3,  4.4,  4.5,  4.6,  4.7,  4.8,\n",
       "        4.9,  5. ])"
      ]
     },
     "execution_count": 6,
     "metadata": {},
     "output_type": "execute_result"
    }
   ],
   "source": [
    "array3 = np.linspace(-5, 5, 101)\n",
    "array3\n"
   ]
  },
  {
   "cell_type": "code",
   "execution_count": 7,
   "id": "70a0c291",
   "metadata": {},
   "outputs": [
    {
     "data": {
      "text/plain": [
       "array([0.47361336, 0.65016559, 0.7942122 , 0.69198854, 0.6536973 ,\n",
       "       0.42511825, 0.74429416, 0.16122141, 0.4805231 , 0.91915575])"
      ]
     },
     "execution_count": 7,
     "metadata": {},
     "output_type": "execute_result"
    }
   ],
   "source": [
    "array4 = np.random.rand(10)\n",
    "array4\n"
   ]
  },
  {
   "cell_type": "code",
   "execution_count": 8,
   "id": "4faeb2e7",
   "metadata": {},
   "outputs": [
    {
     "data": {
      "text/plain": [
       "array([54, 10, 33, 78,  1, 35, 40, 31, 54, 66])"
      ]
     },
     "execution_count": 8,
     "metadata": {},
     "output_type": "execute_result"
    }
   ],
   "source": [
    "array5 = np.random.randint(1, 100, 10)\n",
    "array5\n"
   ]
  },
  {
   "cell_type": "code",
   "execution_count": 9,
   "id": "1304c021",
   "metadata": {},
   "outputs": [
    {
     "data": {
      "text/plain": [
       "array([61.82287813, 47.79882231, 69.56114015, 41.63809716, 53.95678947,\n",
       "       22.53399605, 32.59356302, 52.54142028, 32.96012258, 42.12246801,\n",
       "       63.51398131, 31.57981137, 64.15896192, 43.59694541, 44.03860456,\n",
       "       58.84428912, 58.75195269, 48.43475259, 60.35360124, 55.90287285])"
      ]
     },
     "execution_count": 9,
     "metadata": {},
     "output_type": "execute_result"
    }
   ],
   "source": [
    "array6 = np.random.normal(50, 10, 20)\n",
    "array6\n"
   ]
  },
  {
   "cell_type": "code",
   "execution_count": 10,
   "id": "5f185593",
   "metadata": {},
   "outputs": [
    {
     "data": {
      "text/plain": [
       "array([[1, 2, 3],\n",
       "       [4, 5, 6]])"
      ]
     },
     "execution_count": 10,
     "metadata": {},
     "output_type": "execute_result"
    }
   ],
   "source": [
    "array7 = np.array([[1, 2, 3], [4, 5, 6]])\n",
    "array7\n"
   ]
  },
  {
   "cell_type": "code",
   "execution_count": 12,
   "id": "9cec0587",
   "metadata": {},
   "outputs": [
    {
     "data": {
      "text/plain": [
       "array([[0., 0., 0., 0.],\n",
       "       [0., 0., 0., 0.],\n",
       "       [0., 0., 0., 0.]])"
      ]
     },
     "execution_count": 12,
     "metadata": {},
     "output_type": "execute_result"
    }
   ],
   "source": [
    "array8 = np.zeros((3, 4))\n",
    "array8"
   ]
  },
  {
   "cell_type": "code",
   "execution_count": 13,
   "id": "70a681b5",
   "metadata": {},
   "outputs": [
    {
     "data": {
      "text/plain": [
       "array([[1., 1., 1., 1.],\n",
       "       [1., 1., 1., 1.],\n",
       "       [1., 1., 1., 1.]])"
      ]
     },
     "execution_count": 13,
     "metadata": {},
     "output_type": "execute_result"
    }
   ],
   "source": [
    "array9 = np.ones((3, 4))\n",
    "array9\n"
   ]
  },
  {
   "cell_type": "code",
   "execution_count": 14,
   "id": "03cb503c",
   "metadata": {},
   "outputs": [
    {
     "data": {
      "text/plain": [
       "array([[10, 10, 10, 10],\n",
       "       [10, 10, 10, 10],\n",
       "       [10, 10, 10, 10]])"
      ]
     },
     "execution_count": 14,
     "metadata": {},
     "output_type": "execute_result"
    }
   ],
   "source": [
    "array10 = np.full((3, 4), 10)\n",
    "array10\n"
   ]
  },
  {
   "cell_type": "code",
   "execution_count": 15,
   "id": "0195831d",
   "metadata": {},
   "outputs": [
    {
     "data": {
      "text/plain": [
       "array([[1., 0., 0., 0.],\n",
       "       [0., 1., 0., 0.],\n",
       "       [0., 0., 1., 0.],\n",
       "       [0., 0., 0., 1.]])"
      ]
     },
     "execution_count": 15,
     "metadata": {},
     "output_type": "execute_result"
    }
   ],
   "source": [
    "array11 = np.eye(4)\n",
    "array11\n"
   ]
  },
  {
   "cell_type": "code",
   "execution_count": 16,
   "id": "827f242a",
   "metadata": {},
   "outputs": [
    {
     "data": {
      "text/plain": [
       "array([[1, 2, 3],\n",
       "       [4, 5, 6]])"
      ]
     },
     "execution_count": 16,
     "metadata": {},
     "output_type": "execute_result"
    }
   ],
   "source": [
    "array12 = np.array([1, 2, 3, 4, 5, 6]).reshape(2, 3)\n",
    "array12\n"
   ]
  },
  {
   "cell_type": "code",
   "execution_count": null,
   "id": "67368a99",
   "metadata": {},
   "outputs": [],
   "source": []
  }
 ],
 "metadata": {
  "kernelspec": {
   "display_name": "Python 3",
   "language": "python",
   "name": "python3"
  },
  "language_info": {
   "codemirror_mode": {
    "name": "ipython",
    "version": 3
   },
   "file_extension": ".py",
   "mimetype": "text/x-python",
   "name": "python",
   "nbconvert_exporter": "python",
   "pygments_lexer": "ipython3",
   "version": "3.8.6"
  }
 },
 "nbformat": 4,
 "nbformat_minor": 5
}
